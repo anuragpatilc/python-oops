{
 "cells": [
  {
   "attachments": {},
   "cell_type": "markdown",
   "metadata": {},
   "source": [
    "Rules of Object Orientation:\n",
    "    The world is a collection of objects\n",
    "    Every object is useful object, no object is useless\n",
    "    Every object will be in constant interaction between each other, no object will be in\tisolated state\n",
    "    Every object belongs to Class (or) type. Type / Class does not exists in reality, instead objects of that type exists\n",
    "    Every object will be having 2 parts :\n",
    "    Has part:It is referred as properties of an object (Data Types)\n",
    "    Does part:It is referred as behavior of an object (Methods / Functions)\n",
    "\n",
    "Terminologies involved in Object Orientation:\n",
    "    1.Object\n",
    "    2.Class\n",
    "    3.Properties / State / Instance\n",
    "    4.Methods\n",
    "\n",
    "Properties / variables → 4 properties\n",
    "    1.Local variable / method level variables\n",
    "    2.Global variable\n",
    "    3.Instance variable / object level variables\n",
    "    4.static variable / class level variables\n",
    "\n",
    "Methods:\n",
    "    1.Instance method\n",
    "    2.Static method / utility method\n",
    "    3.class method\n"
   ]
  },
  {
   "cell_type": "code",
   "execution_count": 37,
   "metadata": {},
   "outputs": [
    {
     "name": "stdout",
     "output_type": "stream",
     "text": [
      "This is python class handled by Sandesh\n",
      "Help on class OnlineBatch in module __main__:\n",
      "\n",
      "class OnlineBatch(builtins.object)\n",
      " |  This is python class handled by Sandesh\n",
      " |  \n",
      " |  Data descriptors defined here:\n",
      " |  \n",
      " |  __dict__\n",
      " |      dictionary for instance variables (if defined)\n",
      " |  \n",
      " |  __weakref__\n",
      " |      list of weak references to the object (if defined)\n",
      "\n"
     ]
    }
   ],
   "source": [
    "# creation of class in python\n",
    "class OnlineBatch:\n",
    "    '''This is python class handled by Sandesh'''\n",
    "    \n",
    "print(OnlineBatch.__doc__)\n",
    "help(OnlineBatch)"
   ]
  },
  {
   "attachments": {},
   "cell_type": "markdown",
   "metadata": {},
   "source": [
    "Creation of class and object in python."
   ]
  },
  {
   "cell_type": "code",
   "execution_count": 35,
   "metadata": {},
   "outputs": [
    {
     "name": "stdout",
     "output_type": "stream",
     "text": [
      "Anurag 22 80.8\n",
      "Anurag 22 80.8\n",
      "The Student is having food\n",
      "The studen is sleeping\n"
     ]
    }
   ],
   "source": [
    "class Student:\n",
    "    def __init__(self, name, age, marks):\n",
    "        self.name = name\n",
    "        self.age = age\n",
    "        self.marks = marks\n",
    "        print(self.name, self.age, self.marks)\n",
    "        \n",
    "    def eat(self):\n",
    "        print('The Student is having food')\n",
    "        \n",
    "    def sleep(self):\n",
    "        print('The studen is sleeping')\n",
    "        \n",
    "if __name__ == \"__main__\":\n",
    "    s= Student(name='Anurag', age=22, marks=80.8)\n",
    "    print(s.name, s.age, s.marks)\n",
    "    s.eat()\n",
    "    s.sleep()"
   ]
  },
  {
   "attachments": {},
   "cell_type": "markdown",
   "metadata": {},
   "source": [
    "NOTE:\n",
    "→  Whenever we try to create the object PVM would invoke / call a magic method called __new__\n",
    "→  After that PVM would invoke another magic method called __init__\n",
    "\ti.e Constructor\n",
    "→  Whenever we consider the variables or methods starting with __ and ending with __ ,Then PVM would treat those things as Special variables and Special Methods.\n",
    "\n",
    "Reference variable:\n",
    "→  The variable which can be used to refer to the objects.\n",
    "→  Using Reference Variable we can access the properties and methods of the object\n",
    "\n",
    "self variable:\n",
    "→  self is a variable which holds the address of current object\n",
    "→  self is a variable which is stored inside GCR\n",
    "→  using self we can access the properties and methods of the object within the class\n",
    "→  self variable is the 1st parameter within the constructor\n",
    "\n",
    "Global Context Region:\n",
    "→  It is region where address of self variable would be stored, it will be present within PVM\n",
    "\n",
    "constructor:\n",
    "→  constructor is a special method in python.\n",
    "→  The name of the constructor should be __init__(self)\n",
    "→  constructor would be executed automatically at the time of object creation\n"
   ]
  },
  {
   "attachments": {},
   "cell_type": "markdown",
   "metadata": {},
   "source": [
    "Creation of Multiple objects with the same name in python:\n",
    "→  We can create multiple objects in python using the same Object name"
   ]
  },
  {
   "cell_type": "code",
   "execution_count": 5,
   "metadata": {},
   "outputs": [
    {
     "name": "stdout",
     "output_type": "stream",
     "text": [
      "2371115374480\n",
      "Anurag 20\n",
      "Anurag 20\n",
      "********************************\n",
      "2371115301200\n",
      "Sanjana 25\n",
      "Sanjana 25\n"
     ]
    }
   ],
   "source": [
    "class Student:\n",
    "    def __init__(self, name, age):\n",
    "        self.name = name\n",
    "        self.age = age\n",
    "        \n",
    "    def display(self):\n",
    "        print(self.name,self.age)\n",
    "        \n",
    "if __name__ == \"__main__\":\n",
    "    s1 = Student(name = 'Anurag', age = 20)\n",
    "    print(id(s1))\n",
    "    print(s1.name, s1.age)\n",
    "    s1.display()\n",
    "    \n",
    "    print('********************************')\n",
    "    \n",
    "    s2 = Student(name = 'Sanjana', age = 25)\n",
    "    print(id(s2))\n",
    "    print(s2.name, s2.age)\n",
    "    s2.display()\n",
    "    "
   ]
  },
  {
   "attachments": {},
   "cell_type": "markdown",
   "metadata": {},
   "source": [
    "Creation of multiple objects with the same reference variable :"
   ]
  },
  {
   "cell_type": "code",
   "execution_count": 31,
   "metadata": {},
   "outputs": [
    {
     "name": "stdout",
     "output_type": "stream",
     "text": [
      "2371131229264\n",
      "Anurag 27\n",
      "Anurag 27\n",
      "2371131234128\n",
      "Sanajan 25\n",
      "Sanajan 25\n"
     ]
    }
   ],
   "source": [
    "# creating a muliple object with same reference  variable:\n",
    "class Student:\n",
    "    def __init__(self, name, age):\n",
    "        self.name = name\n",
    "        self.age = age\n",
    "        \n",
    "    def display(self):\n",
    "        print(self.name, self.age)\n",
    "        \n",
    "if __name__ == \"__main__\":\n",
    "    s = Student(name='Anurag', age = 27)\n",
    "    print(id(s))\n",
    "    print(s.name, s.age)\n",
    "    s.display()\n",
    "    \n",
    "    s = Student(name='Sanajan', age = 25)\n",
    "    print(id(s))\n",
    "    print(s.name, s.age)\n",
    "    s.display()"
   ]
  },
  {
   "attachments": {},
   "cell_type": "markdown",
   "metadata": {},
   "source": [
    "NOTE:\n",
    "→  whenever we create multiple objects with same reference variable then the address of 1st object stored within that reference variable would be replaced by the address of 2nd object\n",
    "\n",
    "self variable:\n",
    "  →  self is a variable which holds the address of current object\n",
    "  →  self is a variable which is stored inside GCR(Global Context Region)\n",
    "  →  Using self we can access the properties and methods of the object within the class\n",
    "  →  self variable is the 1st parameter within the Constructor as well as Instance method\n",
    "  →  It is not compulsion that we have to take 'self' has the 1st parameter\n",
    "  →  using self we can access the instance variables and Instance methods of the objects\n",
    "  →  At the time of object creation automatically the address would be allocated to this self by PVM\n",
    "  →  The main purpose of self variable is to declare and access the IV \n",
    "  →  self is not a keyword in python, its a variable used as parameter\n",
    "  →  outside the class there is no scope / value / importance for self variable\n"
   ]
  },
  {
   "attachments": {},
   "cell_type": "markdown",
   "metadata": {},
   "source": [
    "The address of self and address of reference variable which is pointing to class object have a same address showing below."
   ]
  },
  {
   "cell_type": "code",
   "execution_count": 32,
   "metadata": {},
   "outputs": [
    {
     "name": "stdout",
     "output_type": "stream",
     "text": [
      "Constructor is executed\n",
      "The address of self varialbe is:  2371129964496\n",
      "Address of reference variabel is:  2371129964496\n"
     ]
    }
   ],
   "source": [
    "class Demo:\n",
    "    def __init__(self):\n",
    "        print('Constructor is executed')\n",
    "        print('The address of self varialbe is: ', id(self))\n",
    "        \n",
    "if __name__ == '__main__':\n",
    "    d = Demo()\n",
    "    print('Address of reference variabel is: ', id(d))"
   ]
  },
  {
   "attachments": {},
   "cell_type": "markdown",
   "metadata": {},
   "source": [
    "Instead of self variable we can take any other name , but to follow the industry standard we will consider the 1st parameter within constructor as self"
   ]
  },
  {
   "cell_type": "code",
   "execution_count": 33,
   "metadata": {},
   "outputs": [
    {
     "name": "stdout",
     "output_type": "stream",
     "text": [
      "Constructor is executed\n",
      "The address of self varialbe is:  2371122860432\n",
      "Address of reference variabel is:  2371122860432\n"
     ]
    }
   ],
   "source": [
    "# Example 1\n",
    "class Demo:\n",
    "    def __init__(golf):\n",
    "        print('Constructor is executed')\n",
    "        print('The address of self varialbe is: ', id(golf))\n",
    "        \n",
    "if __name__ == '__main__':\n",
    "    d = Demo()\n",
    "    print('Address of reference variabel is: ', id(d))"
   ]
  },
  {
   "cell_type": "code",
   "execution_count": 43,
   "metadata": {},
   "outputs": [
    {
     "name": "stdout",
     "output_type": "stream",
     "text": [
      "Constructor is executed\n",
      "within constructor method Anurag\n",
      "address of self  2371122043536\n",
      "\n",
      "Display method is executed\n",
      "Within display method  Anurag\n",
      "address of kelf is  2371122043536\n",
      "\n",
      "Within the main method\n",
      "Within main function  Anurag\n",
      "Address of reference variable  2371122043536\n"
     ]
    }
   ],
   "source": [
    "# Example 2\n",
    "class Demo:\n",
    "    def __init__(self, name):\n",
    "        print('Constructor is executed')\n",
    "        self.name = name\n",
    "        print('within constructor method' , self.name)\n",
    "        print('address of self ', id(self))\n",
    "        print()\n",
    "        \n",
    "        \n",
    "    def display(kelf):\n",
    "        print('Display method is executed')\n",
    "        print('Within display method ', kelf.name)\n",
    "        print('address of kelf is ', id(kelf))\n",
    "        print()\n",
    "        \n",
    "if __name__ == \"__main__\":\n",
    "    d = Demo(name = 'Anurag')\n",
    "    d.display()\n",
    "    print('Within the main method')\n",
    "    print('Within main function ', d.name)\n",
    "    print('Address of reference variable ', id(d))\n",
    "    "
   ]
  },
  {
   "cell_type": "code",
   "execution_count": 44,
   "metadata": {},
   "outputs": [
    {
     "name": "stdout",
     "output_type": "stream",
     "text": [
      "Constructor is executed\n",
      "within constructor method Anurag\n",
      "address of self  2371122044176\n",
      "\n",
      "Display method is executed\n",
      "Within display method  Anurag\n",
      "address of kelf is  2371122044176\n",
      "\n",
      "Within the main method\n",
      "Within main function  Anurag\n",
      "Address of reference variable  2371122044176\n"
     ]
    }
   ],
   "source": [
    "# Example 3\n",
    "class Demo:\n",
    "    def __init__(golf, name):\n",
    "        print('Constructor is executed')\n",
    "        golf.name = name\n",
    "        print('within constructor method' , golf.name)\n",
    "        print('address of self ', id(golf))\n",
    "        print()\n",
    "        \n",
    "        \n",
    "    def display(self):\n",
    "        print('Display method is executed')\n",
    "        print('Within display method ', self.name)\n",
    "        print('address of kelf is ', id(self))\n",
    "        print()\n",
    "        \n",
    "if __name__ == \"__main__\":\n",
    "    d = Demo(name = 'Anurag')\n",
    "    d.display()\n",
    "    print('Within the main method')\n",
    "    print('Within main function ', d.name)\n",
    "    print('Address of reference variable ', id(d))\n",
    "    "
   ]
  },
  {
   "attachments": {},
   "cell_type": "markdown",
   "metadata": {},
   "source": [
    "Constructor:\n",
    "→ Constructor is a special method in python.\n",
    "→  The name of the constructor should be __init__(self)\n",
    "→  Constructor would be executed automatically at the time of object creation\n",
    "→  Automatically Constructor would be executed only once per object\n",
    "→  Constructor would take minimum one argument(formal argument) i.e self\n",
    "→  Constructor is optional in python and if we are not providing constructor then PVM would provide a 'default constructor'\n",
    "→  Constructor is also called as initializer method because it will initialize the instance of object(Properties of an Object)\n",
    "→  The main Purpose of Constructor is to declare and initialize the Instance Variable\n",
    "→  We can call the constructor explicitly using its name n number of times a/c to our requirements\n",
    "\t\n",
    "Types of Constructor:\n",
    "\t In case of python there are 2 types of Constructor\n",
    "1.Non Parameterized Constructor/Default Constructor/Zero parameterized Constructor\n",
    "2.Parameterized Constructor\n"
   ]
  },
  {
   "attachments": {},
   "cell_type": "markdown",
   "metadata": {},
   "source": [
    "1. Non Parameterized Constructor / Default Constructor / Zero parameterized Constructor:\n",
    "\t→ Non parameterized Constructor is the constructor which takes zero argument apart from default parameter self\n"
   ]
  },
  {
   "cell_type": "code",
   "execution_count": 45,
   "metadata": {},
   "outputs": [
    {
     "name": "stdout",
     "output_type": "stream",
     "text": [
      "Constructor is executed\n"
     ]
    }
   ],
   "source": [
    "#Example 1:\n",
    "class Demo:\n",
    "    def __init__(self):\n",
    "        print('Constructor is executed')\n",
    "        \n",
    "if __name__ == \"__main__\":\n",
    "    obj = Demo()"
   ]
  },
  {
   "attachments": {},
   "cell_type": "markdown",
   "metadata": {},
   "source": [
    "Note:\n",
    "    →  Per object only once the constructor would be executed automatically by PVM."
   ]
  },
  {
   "cell_type": "code",
   "execution_count": 46,
   "metadata": {},
   "outputs": [
    {
     "name": "stdout",
     "output_type": "stream",
     "text": [
      "Constructor is executed\n",
      "Constructor is executed\n",
      "Constructor is executed\n"
     ]
    }
   ],
   "source": [
    "#Example 2\n",
    "class Demo:\n",
    "    def __init__(self):\n",
    "        print('Constructor is executed')\n",
    "        \n",
    "if __name__ == \"__main__\":\n",
    "    obj1 = Demo()\n",
    "    obj2 = Demo()\n",
    "    obj3 = Demo()"
   ]
  },
  {
   "attachments": {},
   "cell_type": "markdown",
   "metadata": {},
   "source": [
    "NOTE:\n",
    "\t→  We can call the Constructor n number of times for a single object by calling the constructor explicitly"
   ]
  },
  {
   "cell_type": "code",
   "execution_count": 51,
   "metadata": {},
   "outputs": [
    {
     "name": "stdout",
     "output_type": "stream",
     "text": [
      "Constructor is executed\n",
      "Constructor is executed\n",
      "Constructor is executed\n"
     ]
    }
   ],
   "source": [
    "#Example 3\n",
    "class Demo:\n",
    "    def __init__(self):\n",
    "        print('Constructor is executed')\n",
    "        \n",
    "if __name__ == \"__main__\":\n",
    "    obj1 = Demo()\n",
    "    obj1.__init__()\n",
    "    # ref.__init__() --> NameError: name 'ref' is not defined\n",
    "    obj1.__init__()\n",
    "    "
   ]
  },
  {
   "attachments": {},
   "cell_type": "markdown",
   "metadata": {},
   "source": [
    "NOTE:\n",
    "\t→ If we don't create a Constructor then automatically PVM would create a default Constructor as shown below"
   ]
  },
  {
   "cell_type": "code",
   "execution_count": 53,
   "metadata": {},
   "outputs": [
    {
     "name": "stdout",
     "output_type": "stream",
     "text": [
      "Default constructor created\n"
     ]
    }
   ],
   "source": [
    "#Example 4\n",
    "class Demo1:\n",
    "    print('Default constructor created')\n",
    "\n",
    "\n",
    "if __name__ == \"__main__\":\n",
    "    ref = Demo1()\n",
    "    ref.__init__()"
   ]
  },
  {
   "attachments": {},
   "cell_type": "markdown",
   "metadata": {},
   "source": [
    "2. Parameterized Constructor:\n",
    "  \t→ parameterized Constructor is the constructor which takes arguments"
   ]
  },
  {
   "cell_type": "code",
   "execution_count": 56,
   "metadata": {},
   "outputs": [
    {
     "name": "stdout",
     "output_type": "stream",
     "text": [
      "Constructor is executed\n",
      "Anurag 2019\n"
     ]
    }
   ],
   "source": [
    "#Example 1:\n",
    "class call1:\n",
    "    def __init__(self, name, year):\n",
    "        print('Constructor is executed')\n",
    "        self.a = name\n",
    "        self.b = year\n",
    "        print(self.a, self.b)\n",
    "        \n",
    "if __name__ == '__main__':\n",
    "    obj = call1(name='Anurag', year=2019)\n"
   ]
  },
  {
   "cell_type": "code",
   "execution_count": 2,
   "metadata": {},
   "outputs": [
    {
     "name": "stdout",
     "output_type": "stream",
     "text": [
      "Topic and Duration added successfully\n",
      "Topic and Duration added successfully\n",
      "Topic and Duration added successfully\n",
      "Topic and Duration added successfully\n",
      "Topic and Duration added successfully\n",
      "Topic and Duration added successfully\n",
      "All the topics under python are: \n",
      "The topic name:  function\n",
      "Duration:  1\n",
      "\n",
      "The topic name:  methods\n",
      "Duration:  2\n",
      "\n",
      "The topic name:  variable\n",
      "Duration:  3\n",
      "\n",
      "The topic name:  datatypes\n",
      "Duration:  4\n",
      "\n",
      "The topic name:  oops \n",
      "Duration:  5\n",
      "\n",
      "The topic name:  djanago\n",
      "Duration:  7\n",
      "\n"
     ]
    }
   ],
   "source": [
    "#Example 2:\n",
    "class Python:\n",
    "    def __init__(self, topic, hour):\n",
    "        self.topic = topic\n",
    "        self.hour = hour\n",
    "        \n",
    "    def display(self):\n",
    "        print('The topic name: ', self.topic)\n",
    "        print('Duration: ', self.hour)\n",
    "        \n",
    "if __name__ == \"__main__\":\n",
    "    list_of_tupics = []\n",
    "    while True:\n",
    "        topic = input('Enter the topic name: ')\n",
    "        hour = int(input('Enter the Duration: '))\n",
    "        p1 = Python(topic=topic, hour=hour)\n",
    "        list_of_tupics.append(p1)\n",
    "        print('Topic and Duration added successfully')\n",
    "        choice = input('Do you want ot add one more topic: [YES/NO]: ')\n",
    "        if choice.lower() == 'no':\n",
    "            break\n",
    "        \n",
    "    print('All the topics under python are: ')\n",
    "    for i in list_of_tupics:\n",
    "        i.display()\n",
    "        print()"
   ]
  },
  {
   "attachments": {},
   "cell_type": "markdown",
   "metadata": {},
   "source": [
    "Difference between Constructor and method:\n",
    "method\n",
    "    1) we can provide any name for a method\n",
    "    2) methods will not executed automatically by PVM\n",
    "    3) We can call the method explicitly by using its name\n",
    "    4) per object we can call the method n number og times \n",
    "    5) Method are used to write business logic bases upon the requriements\n",
    "\n",
    "    def _______():\n",
    "        body\n",
    "\n",
    "constructor\n",
    "    1) we have to provide __init__() name for constructor\n",
    "    2) Constructor will be executed automatically at the time of object creation by PVM\n",
    "    3) we call the constructor explicitly by using its name\n",
    "    4) Implicitly only once costructure would be called per object \n",
    "    5) Constructor is used to declare and initialize instance variables\n",
    "\n",
    "    def __init__(self):\n",
    "        body"
   ]
  },
  {
   "attachments": {},
   "cell_type": "markdown",
   "metadata": {},
   "source": [
    "Properties in python: ( attributes / variables / instance / state)\n",
    "    1. Local variable/method level variable\n",
    "    2. Global Variable\n",
    "    3. Instance Variable/object level variable/fields\n",
    "    4. Static Variable/class level variable\n",
    "\n",
    "1. Local variable/method level variable:\n",
    "   →  These are the variables which are declared inside a function/methods\n",
    "   →  The scope of local variable will be limited within the function where it is defined.\n",
    "   →  If the local variable is called outside that function, then it would lead to NameError exception\n",
    "\n",
    "2. Global variable:\n",
    "   →  These are the variables which are declared outside of function.\n",
    "   →  The scope of Global variable will be throughout the program\n",
    "\n",
    "    Global context scope:\n",
    "        → This is region which is used to store the details of global variable\n",
    "\n",
    "    Global Keyword:\n",
    "        →  It is used to declare the Global variable inside the function.\n",
    "    \n",
    "    globals():\n",
    "        →  It is used to fetch the data stored within global variable inside a function\n",
    "        →  The data would be stored in the form of a dictionary.\n",
    "\n",
    "    locals():\n",
    "        →  This function is used to fetch the information of local variable within the function\n",
    "        →  The data would be stored in the form of a dictionary.\n"
   ]
  },
  {
   "cell_type": "code",
   "execution_count": 41,
   "metadata": {},
   "outputs": [
    {
     "name": "stdout",
     "output_type": "stream",
     "text": [
      "Mysore\n"
     ]
    }
   ],
   "source": [
    "#Example 1:\n",
    "def karnataka():\n",
    "    city = 'Mysore' # local variable\n",
    "    print(city)\n",
    "    \n",
    "def kerala():\n",
    "    # print(city) --> NameError: name 'city' is not defined\n",
    "    pass\n",
    "    \n",
    "if __name__ == \"__main__\":\n",
    "    karnataka()\n",
    "    kerala()\n",
    "    # print(city) --> NameError: name 'city' is not defined"
   ]
  },
  {
   "cell_type": "code",
   "execution_count": 6,
   "metadata": {},
   "outputs": [
    {
     "name": "stdout",
     "output_type": "stream",
     "text": [
      "Anurag\n",
      "Anurag\n",
      "Anurag\n"
     ]
    }
   ],
   "source": [
    "#Example 2\n",
    "name = 'Anurag' # global variable \n",
    "\n",
    "def python_class():\n",
    "    print(name)\n",
    "    \n",
    "def java_class():\n",
    "    print(name)\n",
    "    \n",
    "if __name__ == \"__main__\":\n",
    "    python_class()\n",
    "    java_class()\n",
    "    print(name)"
   ]
  },
  {
   "cell_type": "code",
   "execution_count": 7,
   "metadata": {},
   "outputs": [
    {
     "name": "stdout",
     "output_type": "stream",
     "text": [
      "Anurag\n",
      "Sanjana\n",
      "Anurag\n"
     ]
    }
   ],
   "source": [
    "#Example 3\n",
    "name = 'Anurag' # global variable \n",
    "\n",
    "def python_class():\n",
    "    print(name)\n",
    "    \n",
    "def java_class():\n",
    "    name = 'Sanjana' # local variable\n",
    "    print(name)\n",
    "    \n",
    "if __name__ == \"__main__\":\n",
    "    python_class()\n",
    "    java_class()\n",
    "    print(name)"
   ]
  },
  {
   "cell_type": "code",
   "execution_count": 8,
   "metadata": {},
   "outputs": [
    {
     "name": "stdout",
     "output_type": "stream",
     "text": [
      "Anurag Patil\n",
      "Sanjana\n",
      "Anurag\n"
     ]
    }
   ],
   "source": [
    "#Example 4\n",
    "name = 'Anurag' # global variable \n",
    "\n",
    "def python_class():\n",
    "    name = 'Anurag Patil' # local varialbe \n",
    "    print(name)\n",
    "    \n",
    "def java_class():\n",
    "    name = 'Sanjana' # local variable\n",
    "    print(name)\n",
    "    \n",
    "if __name__ == \"__main__\":\n",
    "    python_class()\n",
    "    java_class()\n",
    "    print(name)"
   ]
  },
  {
   "cell_type": "code",
   "execution_count": 9,
   "metadata": {},
   "outputs": [
    {
     "name": "stdout",
     "output_type": "stream",
     "text": [
      "Sanjana\n"
     ]
    }
   ],
   "source": [
    "#Example 5\n",
    "\n",
    "name = 'Anurag'\n",
    "\n",
    "def python_class():\n",
    "    name = 'Sanjana'\n",
    "    print(name)\n",
    "    \n",
    "if __name__ == '__main__':\n",
    "    python_class()"
   ]
  },
  {
   "cell_type": "code",
   "execution_count": 11,
   "metadata": {},
   "outputs": [
    {
     "name": "stdout",
     "output_type": "stream",
     "text": [
      "Sanajan\n"
     ]
    }
   ],
   "source": [
    "#Example 6\n",
    "name = 'Anurag'\n",
    "\n",
    "def python_class():\n",
    "    # print(name) --> UnboundLocalError: cannot access local variable 'name' where it is not associated with a value\n",
    "    \n",
    "    name = 'Sanajan'\n",
    "    print(name)\n",
    "    \n",
    "if __name__ == \"__main__\":\n",
    "    python_class()\n",
    "    "
   ]
  },
  {
   "attachments": {},
   "cell_type": "markdown",
   "metadata": {},
   "source": [
    "NOTE:\n",
    "    →  Within the method if we try to access the variable whose name same as local variable then it would lead to UnboundLocalError Exception\n",
    "    →  Inorder to overcome this issue we have to create / make a variable as global within the method using a keyword called as global\n"
   ]
  },
  {
   "cell_type": "code",
   "execution_count": 13,
   "metadata": {},
   "outputs": [
    {
     "name": "stdout",
     "output_type": "stream",
     "text": [
      "Anurag\n",
      "Sanjana\n",
      "Sanjana\n"
     ]
    }
   ],
   "source": [
    "#Example 7:\n",
    "name = \"Anurag\"     # global variable\n",
    "\n",
    "def python_class():\n",
    "    global name     # global variable converted to local variable \n",
    "    print(name)\n",
    "    \n",
    "    name = 'Sanjana'    # Assigining new variable to the global variable\n",
    "    print(name)\n",
    "    \n",
    "if __name__ == \"__main__\":\n",
    "    python_class()    \n",
    "    print(name)"
   ]
  },
  {
   "cell_type": "code",
   "execution_count": 15,
   "metadata": {},
   "outputs": [
    {
     "name": "stdout",
     "output_type": "stream",
     "text": [
      "Anurag\n",
      "Sanjana\n",
      "{'__name__': '__main__', '__doc__': 'Automatically created module for IPython interactive environment', '__package__': None, '__loader__': None, '__spec__': None, '__builtin__': <module 'builtins' (built-in)>, '__builtins__': <module 'builtins' (built-in)>, '_ih': ['', '#Example 2:\\nclass Python:\\n    def __init__(self, topic, hour):\\n        self.topic = topic\\n        self.hour = hour\\n        \\n    def display(self):\\n        print(\\'The topic name: \\', self.topic)\\n        print(\\'Duration: \\', self.hour)\\n        \\nif __name__ == \"__main__\":\\n    list_of_tupics = []\\n    while True:\\n        topic = input(\\'Enter the topic name: \\')\\n        hour = int(input(\\'Enter the Duration: \\'))\\n        p1 = Python(topic=topic, hour=hour)\\n        list_of_tupics.append(p1)\\n        print(\\'Topic and Duration added successfully\\')\\n        choice = input(\\'Do you want ot add one more topic: [YES/NO]: \\')\\n        if choice.lower() == \\'no\\':\\n            break\\n        \\n    print(\\'All the topics under python are: \\')\\n    for i in list_of_tupics:\\n        i.display()\\n        print()', '#Example 2:\\nclass Python:\\n    def __init__(self, topic, hour):\\n        self.topic = topic\\n        self.hour = hour\\n        \\n    def display(self):\\n        print(\\'The topic name: \\', self.topic)\\n        print(\\'Duration: \\', self.hour)\\n        \\nif __name__ == \"__main__\":\\n    list_of_tupics = []\\n    while True:\\n        topic = input(\\'Enter the topic name: \\')\\n        hour = int(input(\\'Enter the Duration: \\'))\\n        p1 = Python(topic=topic, hour=hour)\\n        list_of_tupics.append(p1)\\n        print(\\'Topic and Duration added successfully\\')\\n        choice = input(\\'Do you want ot add one more topic: [YES/NO]: \\')\\n        if choice.lower() == \\'no\\':\\n            break\\n        \\n    print(\\'All the topics under python are: \\')\\n    for i in list_of_tupics:\\n        i.display()\\n        print()', 'def karnataka():\\n    city = \\'Mysore\\'\\n    print(city)\\n    \\ndef kerala():\\n    print(city)\\n    \\nif __name__ == \"__main__\":\\n    karnataka()\\n    kerala()\\n    print(city)', 'def karnataka():\\n    city = \\'Mysore\\'\\n    print(city)\\n    \\ndef kerala():\\n    print(city)\\n    \\nif __name__ == \"__main__\":\\n    karnataka()\\n    kerala()\\n    # print(city) --> NameError: name \\'city\\' is not defined', 'def karnataka():\\n    city = \\'Mysore\\'\\n    print(city)\\n    \\ndef kerala():\\n    # print(city) --> NameError: name \\'city\\' is not defined\\n    pass\\n    \\nif __name__ == \"__main__\":\\n    karnataka()\\n    kerala()\\n    # print(city) --> NameError: name \\'city\\' is not defined', '#Example 2\\nname = \\'Anurag\\' # global variable \\n\\ndef python_class():\\n    print(name)\\n    \\ndef java_class():\\n    print(name)\\n    \\nif __name__ == \"__main__\":\\n    python_class()\\n    java_class()\\n    print(name)', '#Example 3\\nname = \\'Anurag\\' # global variable \\n\\ndef python_class():\\n    print(name)\\n    \\ndef java_class():\\n    name = \\'Sanjana\\' # local variable\\n    print(name)\\n    \\nif __name__ == \"__main__\":\\n    python_class()\\n    java_class()\\n    print(name)', '#Example 4\\nname = \\'Anurag\\' # global variable \\n\\ndef python_class():\\n    name = \\'Anurag Patil\\' # local varialbe \\n    print(name)\\n    \\ndef java_class():\\n    name = \\'Sanjana\\' # local variable\\n    print(name)\\n    \\nif __name__ == \"__main__\":\\n    python_class()\\n    java_class()\\n    print(name)', \"#Example 5\\n\\nname = 'Anurag'\\n\\ndef python_class():\\n    name = 'Sanjana'\\n    print(name)\\n    \\nif __name__ == '__main__':\\n    python_class()\", '#Example 6\\nname = \\'Anurag\\'\\n\\ndef python_class():\\n    print(name)\\n    \\n    name = \\'Sanajan\\'\\n    print(name)\\n    \\nif __name__ == \"__main__\":\\n    python_class()\\n    ', '#Example 6\\nname = \\'Anurag\\'\\n\\ndef python_class():\\n    # print(name) --> UnboundLocalError: cannot access local variable \\'name\\' where it is not associated with a value\\n    \\n    name = \\'Sanajan\\'\\n    print(name)\\n    \\nif __name__ == \"__main__\":\\n    python_class()\\n    ', '#Example 7:\\nname = \"Anurag\"\\n\\ndef python_class():\\n    global name\\n    print(name)\\n    \\n    name = \\'Sanjana\\'\\n    print(name)\\n    \\nif __name__ == \"__main__\":\\n    python_class()    ', '#Example 7:\\nname = \"Anurag\"     # global variable\\n\\ndef python_class():\\n    global name     # global variable converted to local variable \\n    print(name)\\n    \\n    name = \\'Sanjana\\'    # Assigining new variable to the global variable\\n    print(name)\\n    \\nif __name__ == \"__main__\":\\n    python_class()    \\n    print(name)', '#Example 8:\\nname = \"Anurag\"     # global variable\\n\\ndef python_class():\\n    global name     # global variable converted to local variable \\n    print(name)\\n    \\n    name = \\'Sanjana\\'    # Assigining new variable to the global variable\\n    print(name)\\n    \\n    print(globals())\\nif __name__ == \"__main__\":\\n    python_class()    \\n    print(name)', '#Example 8\\nname = \"Anurag\"     # global variable\\n\\ndef python_class():\\n    global name     # global variable converted to local variable \\n    print(name)\\n    \\n    name = \\'Sanjana\\'    # Assigining new variable to the global variable\\n    print(name)\\n    \\n    print(globals())\\n    \\nif __name__ == \"__main__\":\\n    python_class()    \\n    print(name)'], '_oh': {}, '_dh': [WindowsPath('c:/Users/anura/OneDrive/Desktop/Python'), WindowsPath('c:/Users/anura/OneDrive/Desktop/Python')], 'In': ['', '#Example 2:\\nclass Python:\\n    def __init__(self, topic, hour):\\n        self.topic = topic\\n        self.hour = hour\\n        \\n    def display(self):\\n        print(\\'The topic name: \\', self.topic)\\n        print(\\'Duration: \\', self.hour)\\n        \\nif __name__ == \"__main__\":\\n    list_of_tupics = []\\n    while True:\\n        topic = input(\\'Enter the topic name: \\')\\n        hour = int(input(\\'Enter the Duration: \\'))\\n        p1 = Python(topic=topic, hour=hour)\\n        list_of_tupics.append(p1)\\n        print(\\'Topic and Duration added successfully\\')\\n        choice = input(\\'Do you want ot add one more topic: [YES/NO]: \\')\\n        if choice.lower() == \\'no\\':\\n            break\\n        \\n    print(\\'All the topics under python are: \\')\\n    for i in list_of_tupics:\\n        i.display()\\n        print()', '#Example 2:\\nclass Python:\\n    def __init__(self, topic, hour):\\n        self.topic = topic\\n        self.hour = hour\\n        \\n    def display(self):\\n        print(\\'The topic name: \\', self.topic)\\n        print(\\'Duration: \\', self.hour)\\n        \\nif __name__ == \"__main__\":\\n    list_of_tupics = []\\n    while True:\\n        topic = input(\\'Enter the topic name: \\')\\n        hour = int(input(\\'Enter the Duration: \\'))\\n        p1 = Python(topic=topic, hour=hour)\\n        list_of_tupics.append(p1)\\n        print(\\'Topic and Duration added successfully\\')\\n        choice = input(\\'Do you want ot add one more topic: [YES/NO]: \\')\\n        if choice.lower() == \\'no\\':\\n            break\\n        \\n    print(\\'All the topics under python are: \\')\\n    for i in list_of_tupics:\\n        i.display()\\n        print()', 'def karnataka():\\n    city = \\'Mysore\\'\\n    print(city)\\n    \\ndef kerala():\\n    print(city)\\n    \\nif __name__ == \"__main__\":\\n    karnataka()\\n    kerala()\\n    print(city)', 'def karnataka():\\n    city = \\'Mysore\\'\\n    print(city)\\n    \\ndef kerala():\\n    print(city)\\n    \\nif __name__ == \"__main__\":\\n    karnataka()\\n    kerala()\\n    # print(city) --> NameError: name \\'city\\' is not defined', 'def karnataka():\\n    city = \\'Mysore\\'\\n    print(city)\\n    \\ndef kerala():\\n    # print(city) --> NameError: name \\'city\\' is not defined\\n    pass\\n    \\nif __name__ == \"__main__\":\\n    karnataka()\\n    kerala()\\n    # print(city) --> NameError: name \\'city\\' is not defined', '#Example 2\\nname = \\'Anurag\\' # global variable \\n\\ndef python_class():\\n    print(name)\\n    \\ndef java_class():\\n    print(name)\\n    \\nif __name__ == \"__main__\":\\n    python_class()\\n    java_class()\\n    print(name)', '#Example 3\\nname = \\'Anurag\\' # global variable \\n\\ndef python_class():\\n    print(name)\\n    \\ndef java_class():\\n    name = \\'Sanjana\\' # local variable\\n    print(name)\\n    \\nif __name__ == \"__main__\":\\n    python_class()\\n    java_class()\\n    print(name)', '#Example 4\\nname = \\'Anurag\\' # global variable \\n\\ndef python_class():\\n    name = \\'Anurag Patil\\' # local varialbe \\n    print(name)\\n    \\ndef java_class():\\n    name = \\'Sanjana\\' # local variable\\n    print(name)\\n    \\nif __name__ == \"__main__\":\\n    python_class()\\n    java_class()\\n    print(name)', \"#Example 5\\n\\nname = 'Anurag'\\n\\ndef python_class():\\n    name = 'Sanjana'\\n    print(name)\\n    \\nif __name__ == '__main__':\\n    python_class()\", '#Example 6\\nname = \\'Anurag\\'\\n\\ndef python_class():\\n    print(name)\\n    \\n    name = \\'Sanajan\\'\\n    print(name)\\n    \\nif __name__ == \"__main__\":\\n    python_class()\\n    ', '#Example 6\\nname = \\'Anurag\\'\\n\\ndef python_class():\\n    # print(name) --> UnboundLocalError: cannot access local variable \\'name\\' where it is not associated with a value\\n    \\n    name = \\'Sanajan\\'\\n    print(name)\\n    \\nif __name__ == \"__main__\":\\n    python_class()\\n    ', '#Example 7:\\nname = \"Anurag\"\\n\\ndef python_class():\\n    global name\\n    print(name)\\n    \\n    name = \\'Sanjana\\'\\n    print(name)\\n    \\nif __name__ == \"__main__\":\\n    python_class()    ', '#Example 7:\\nname = \"Anurag\"     # global variable\\n\\ndef python_class():\\n    global name     # global variable converted to local variable \\n    print(name)\\n    \\n    name = \\'Sanjana\\'    # Assigining new variable to the global variable\\n    print(name)\\n    \\nif __name__ == \"__main__\":\\n    python_class()    \\n    print(name)', '#Example 8:\\nname = \"Anurag\"     # global variable\\n\\ndef python_class():\\n    global name     # global variable converted to local variable \\n    print(name)\\n    \\n    name = \\'Sanjana\\'    # Assigining new variable to the global variable\\n    print(name)\\n    \\n    print(globals())\\nif __name__ == \"__main__\":\\n    python_class()    \\n    print(name)', '#Example 8\\nname = \"Anurag\"     # global variable\\n\\ndef python_class():\\n    global name     # global variable converted to local variable \\n    print(name)\\n    \\n    name = \\'Sanjana\\'    # Assigining new variable to the global variable\\n    print(name)\\n    \\n    print(globals())\\n    \\nif __name__ == \"__main__\":\\n    python_class()    \\n    print(name)'], 'Out': {}, 'get_ipython': <bound method InteractiveShell.get_ipython of <ipykernel.zmqshell.ZMQInteractiveShell object at 0x000002BBDEB4D550>>, 'exit': <IPython.core.autocall.ZMQExitAutocall object at 0x000002BBDEBA4910>, 'quit': <IPython.core.autocall.ZMQExitAutocall object at 0x000002BBDEBA4910>, 'open': <function open at 0x000002BBDC918FE0>, '_': '', '__': '', '___': '', '__vsc_ipynb_file__': 'c:\\\\Users\\\\anura\\\\OneDrive\\\\Desktop\\\\Python\\\\first.ipynb', '_i': '#Example 8:\\nname = \"Anurag\"     # global variable\\n\\ndef python_class():\\n    global name     # global variable converted to local variable \\n    print(name)\\n    \\n    name = \\'Sanjana\\'    # Assigining new variable to the global variable\\n    print(name)\\n    \\n    print(globals())\\nif __name__ == \"__main__\":\\n    python_class()    \\n    print(name)', '_ii': '#Example 7:\\nname = \"Anurag\"     # global variable\\n\\ndef python_class():\\n    global name     # global variable converted to local variable \\n    print(name)\\n    \\n    name = \\'Sanjana\\'    # Assigining new variable to the global variable\\n    print(name)\\n    \\nif __name__ == \"__main__\":\\n    python_class()    \\n    print(name)', '_iii': '#Example 7:\\nname = \"Anurag\"\\n\\ndef python_class():\\n    global name\\n    print(name)\\n    \\n    name = \\'Sanjana\\'\\n    print(name)\\n    \\nif __name__ == \"__main__\":\\n    python_class()    ', '_i1': '#Example 2:\\nclass Python:\\n    def __init__(self, topic, hour):\\n        self.topic = topic\\n        self.hour = hour\\n        \\n    def display(self):\\n        print(\\'The topic name: \\', self.topic)\\n        print(\\'Duration: \\', self.hour)\\n        \\nif __name__ == \"__main__\":\\n    list_of_tupics = []\\n    while True:\\n        topic = input(\\'Enter the topic name: \\')\\n        hour = int(input(\\'Enter the Duration: \\'))\\n        p1 = Python(topic=topic, hour=hour)\\n        list_of_tupics.append(p1)\\n        print(\\'Topic and Duration added successfully\\')\\n        choice = input(\\'Do you want ot add one more topic: [YES/NO]: \\')\\n        if choice.lower() == \\'no\\':\\n            break\\n        \\n    print(\\'All the topics under python are: \\')\\n    for i in list_of_tupics:\\n        i.display()\\n        print()', 'Python': <class '__main__.Python'>, 'list_of_tupics': [<__main__.Python object at 0x000002BBDEBE7890>, <__main__.Python object at 0x000002BBDEBE17D0>, <__main__.Python object at 0x000002BBDEC1B610>, <__main__.Python object at 0x000002BBDEC1B250>, <__main__.Python object at 0x000002BBDEC1ED50>, <__main__.Python object at 0x000002BBDEC1B710>], 'topic': 'djanago', 'hour': 7, 'p1': <__main__.Python object at 0x000002BBDEC1B710>, 'choice': 'no', 'i': <__main__.Python object at 0x000002BBDEC1B710>, '_i2': '#Example 2:\\nclass Python:\\n    def __init__(self, topic, hour):\\n        self.topic = topic\\n        self.hour = hour\\n        \\n    def display(self):\\n        print(\\'The topic name: \\', self.topic)\\n        print(\\'Duration: \\', self.hour)\\n        \\nif __name__ == \"__main__\":\\n    list_of_tupics = []\\n    while True:\\n        topic = input(\\'Enter the topic name: \\')\\n        hour = int(input(\\'Enter the Duration: \\'))\\n        p1 = Python(topic=topic, hour=hour)\\n        list_of_tupics.append(p1)\\n        print(\\'Topic and Duration added successfully\\')\\n        choice = input(\\'Do you want ot add one more topic: [YES/NO]: \\')\\n        if choice.lower() == \\'no\\':\\n            break\\n        \\n    print(\\'All the topics under python are: \\')\\n    for i in list_of_tupics:\\n        i.display()\\n        print()', '_i3': 'def karnataka():\\n    city = \\'Mysore\\'\\n    print(city)\\n    \\ndef kerala():\\n    print(city)\\n    \\nif __name__ == \"__main__\":\\n    karnataka()\\n    kerala()\\n    print(city)', 'karnataka': <function karnataka at 0x000002BBDEC8E700>, 'kerala': <function kerala at 0x000002BBDEC8E5C0>, '_i4': 'def karnataka():\\n    city = \\'Mysore\\'\\n    print(city)\\n    \\ndef kerala():\\n    print(city)\\n    \\nif __name__ == \"__main__\":\\n    karnataka()\\n    kerala()\\n    # print(city) --> NameError: name \\'city\\' is not defined', '_i5': 'def karnataka():\\n    city = \\'Mysore\\'\\n    print(city)\\n    \\ndef kerala():\\n    # print(city) --> NameError: name \\'city\\' is not defined\\n    pass\\n    \\nif __name__ == \"__main__\":\\n    karnataka()\\n    kerala()\\n    # print(city) --> NameError: name \\'city\\' is not defined', '_i6': '#Example 2\\nname = \\'Anurag\\' # global variable \\n\\ndef python_class():\\n    print(name)\\n    \\ndef java_class():\\n    print(name)\\n    \\nif __name__ == \"__main__\":\\n    python_class()\\n    java_class()\\n    print(name)', 'name': 'Sanjana', 'python_class': <function python_class at 0x000002BBDF2020C0>, 'java_class': <function java_class at 0x000002BBDEE6FEC0>, '_i7': '#Example 3\\nname = \\'Anurag\\' # global variable \\n\\ndef python_class():\\n    print(name)\\n    \\ndef java_class():\\n    name = \\'Sanjana\\' # local variable\\n    print(name)\\n    \\nif __name__ == \"__main__\":\\n    python_class()\\n    java_class()\\n    print(name)', '_i8': '#Example 4\\nname = \\'Anurag\\' # global variable \\n\\ndef python_class():\\n    name = \\'Anurag Patil\\' # local varialbe \\n    print(name)\\n    \\ndef java_class():\\n    name = \\'Sanjana\\' # local variable\\n    print(name)\\n    \\nif __name__ == \"__main__\":\\n    python_class()\\n    java_class()\\n    print(name)', '_i9': \"#Example 5\\n\\nname = 'Anurag'\\n\\ndef python_class():\\n    name = 'Sanjana'\\n    print(name)\\n    \\nif __name__ == '__main__':\\n    python_class()\", '_i10': '#Example 6\\nname = \\'Anurag\\'\\n\\ndef python_class():\\n    print(name)\\n    \\n    name = \\'Sanajan\\'\\n    print(name)\\n    \\nif __name__ == \"__main__\":\\n    python_class()\\n    ', '_i11': '#Example 6\\nname = \\'Anurag\\'\\n\\ndef python_class():\\n    # print(name) --> UnboundLocalError: cannot access local variable \\'name\\' where it is not associated with a value\\n    \\n    name = \\'Sanajan\\'\\n    print(name)\\n    \\nif __name__ == \"__main__\":\\n    python_class()\\n    ', '_i12': '#Example 7:\\nname = \"Anurag\"\\n\\ndef python_class():\\n    global name\\n    print(name)\\n    \\n    name = \\'Sanjana\\'\\n    print(name)\\n    \\nif __name__ == \"__main__\":\\n    python_class()    ', '_i13': '#Example 7:\\nname = \"Anurag\"     # global variable\\n\\ndef python_class():\\n    global name     # global variable converted to local variable \\n    print(name)\\n    \\n    name = \\'Sanjana\\'    # Assigining new variable to the global variable\\n    print(name)\\n    \\nif __name__ == \"__main__\":\\n    python_class()    \\n    print(name)', '_i14': '#Example 8:\\nname = \"Anurag\"     # global variable\\n\\ndef python_class():\\n    global name     # global variable converted to local variable \\n    print(name)\\n    \\n    name = \\'Sanjana\\'    # Assigining new variable to the global variable\\n    print(name)\\n    \\n    print(globals())\\nif __name__ == \"__main__\":\\n    python_class()    \\n    print(name)', '_i15': '#Example 8\\nname = \"Anurag\"     # global variable\\n\\ndef python_class():\\n    global name     # global variable converted to local variable \\n    print(name)\\n    \\n    name = \\'Sanjana\\'    # Assigining new variable to the global variable\\n    print(name)\\n    \\n    print(globals())\\n    \\nif __name__ == \"__main__\":\\n    python_class()    \\n    print(name)'}\n",
      "Sanjana\n"
     ]
    }
   ],
   "source": [
    "#Example 8\n",
    "name = \"Anurag\"     # global variable\n",
    "\n",
    "def python_class():\n",
    "    global name     # global variable converted to local variable \n",
    "    print(name)\n",
    "    \n",
    "    name = 'Sanjana'    # Assigining new variable to the global variable\n",
    "    print(name)\n",
    "    \n",
    "    print(globals())\n",
    "    \n",
    "if __name__ == \"__main__\":\n",
    "    python_class()    \n",
    "    print(name)"
   ]
  },
  {
   "cell_type": "code",
   "execution_count": 19,
   "metadata": {},
   "outputs": [
    {
     "name": "stdout",
     "output_type": "stream",
     "text": [
      "Sanjana\n",
      "{'__name__': '__main__', '__doc__': 'Automatically created module for IPython interactive environment', '__package__': None, '__loader__': None, '__spec__': None, '__builtin__': <module 'builtins' (built-in)>, '__builtins__': <module 'builtins' (built-in)>, '_ih': ['', '#Example 2:\\nclass Python:\\n    def __init__(self, topic, hour):\\n        self.topic = topic\\n        self.hour = hour\\n        \\n    def display(self):\\n        print(\\'The topic name: \\', self.topic)\\n        print(\\'Duration: \\', self.hour)\\n        \\nif __name__ == \"__main__\":\\n    list_of_tupics = []\\n    while True:\\n        topic = input(\\'Enter the topic name: \\')\\n        hour = int(input(\\'Enter the Duration: \\'))\\n        p1 = Python(topic=topic, hour=hour)\\n        list_of_tupics.append(p1)\\n        print(\\'Topic and Duration added successfully\\')\\n        choice = input(\\'Do you want ot add one more topic: [YES/NO]: \\')\\n        if choice.lower() == \\'no\\':\\n            break\\n        \\n    print(\\'All the topics under python are: \\')\\n    for i in list_of_tupics:\\n        i.display()\\n        print()', '#Example 2:\\nclass Python:\\n    def __init__(self, topic, hour):\\n        self.topic = topic\\n        self.hour = hour\\n        \\n    def display(self):\\n        print(\\'The topic name: \\', self.topic)\\n        print(\\'Duration: \\', self.hour)\\n        \\nif __name__ == \"__main__\":\\n    list_of_tupics = []\\n    while True:\\n        topic = input(\\'Enter the topic name: \\')\\n        hour = int(input(\\'Enter the Duration: \\'))\\n        p1 = Python(topic=topic, hour=hour)\\n        list_of_tupics.append(p1)\\n        print(\\'Topic and Duration added successfully\\')\\n        choice = input(\\'Do you want ot add one more topic: [YES/NO]: \\')\\n        if choice.lower() == \\'no\\':\\n            break\\n        \\n    print(\\'All the topics under python are: \\')\\n    for i in list_of_tupics:\\n        i.display()\\n        print()', 'def karnataka():\\n    city = \\'Mysore\\'\\n    print(city)\\n    \\ndef kerala():\\n    print(city)\\n    \\nif __name__ == \"__main__\":\\n    karnataka()\\n    kerala()\\n    print(city)', 'def karnataka():\\n    city = \\'Mysore\\'\\n    print(city)\\n    \\ndef kerala():\\n    print(city)\\n    \\nif __name__ == \"__main__\":\\n    karnataka()\\n    kerala()\\n    # print(city) --> NameError: name \\'city\\' is not defined', 'def karnataka():\\n    city = \\'Mysore\\'\\n    print(city)\\n    \\ndef kerala():\\n    # print(city) --> NameError: name \\'city\\' is not defined\\n    pass\\n    \\nif __name__ == \"__main__\":\\n    karnataka()\\n    kerala()\\n    # print(city) --> NameError: name \\'city\\' is not defined', '#Example 2\\nname = \\'Anurag\\' # global variable \\n\\ndef python_class():\\n    print(name)\\n    \\ndef java_class():\\n    print(name)\\n    \\nif __name__ == \"__main__\":\\n    python_class()\\n    java_class()\\n    print(name)', '#Example 3\\nname = \\'Anurag\\' # global variable \\n\\ndef python_class():\\n    print(name)\\n    \\ndef java_class():\\n    name = \\'Sanjana\\' # local variable\\n    print(name)\\n    \\nif __name__ == \"__main__\":\\n    python_class()\\n    java_class()\\n    print(name)', '#Example 4\\nname = \\'Anurag\\' # global variable \\n\\ndef python_class():\\n    name = \\'Anurag Patil\\' # local varialbe \\n    print(name)\\n    \\ndef java_class():\\n    name = \\'Sanjana\\' # local variable\\n    print(name)\\n    \\nif __name__ == \"__main__\":\\n    python_class()\\n    java_class()\\n    print(name)', \"#Example 5\\n\\nname = 'Anurag'\\n\\ndef python_class():\\n    name = 'Sanjana'\\n    print(name)\\n    \\nif __name__ == '__main__':\\n    python_class()\", '#Example 6\\nname = \\'Anurag\\'\\n\\ndef python_class():\\n    print(name)\\n    \\n    name = \\'Sanajan\\'\\n    print(name)\\n    \\nif __name__ == \"__main__\":\\n    python_class()\\n    ', '#Example 6\\nname = \\'Anurag\\'\\n\\ndef python_class():\\n    # print(name) --> UnboundLocalError: cannot access local variable \\'name\\' where it is not associated with a value\\n    \\n    name = \\'Sanajan\\'\\n    print(name)\\n    \\nif __name__ == \"__main__\":\\n    python_class()\\n    ', '#Example 7:\\nname = \"Anurag\"\\n\\ndef python_class():\\n    global name\\n    print(name)\\n    \\n    name = \\'Sanjana\\'\\n    print(name)\\n    \\nif __name__ == \"__main__\":\\n    python_class()    ', '#Example 7:\\nname = \"Anurag\"     # global variable\\n\\ndef python_class():\\n    global name     # global variable converted to local variable \\n    print(name)\\n    \\n    name = \\'Sanjana\\'    # Assigining new variable to the global variable\\n    print(name)\\n    \\nif __name__ == \"__main__\":\\n    python_class()    \\n    print(name)', '#Example 8:\\nname = \"Anurag\"     # global variable\\n\\ndef python_class():\\n    global name     # global variable converted to local variable \\n    print(name)\\n    \\n    name = \\'Sanjana\\'    # Assigining new variable to the global variable\\n    print(name)\\n    \\n    print(globals())\\nif __name__ == \"__main__\":\\n    python_class()    \\n    print(name)', '#Example 8\\nname = \"Anurag\"     # global variable\\n\\ndef python_class():\\n    global name     # global variable converted to local variable \\n    print(name)\\n    \\n    name = \\'Sanjana\\'    # Assigining new variable to the global variable\\n    print(name)\\n    \\n    print(globals())\\n    \\nif __name__ == \"__main__\":\\n    python_class()    \\n    print(name)', '#Example 9:\\nname = \\'Anurag\\'         # global variable\\n\\ndef python_class():\\n    name = \\'Sanjana\\'    # local variable\\n    print(name)\\n    \\n    print(globals())\\n    print(locals())\\n    \\nif __name__ == \"__main__\":\\n    python_class() \\n    print(name)', '#Example 9:\\nname = \\'Anurag\\'         # global variable\\n\\ndef python_class():\\n    name = \\'Sanjana\\'    # local variable\\n    print(name)\\n    \\n    print(globals())\\n    print(locals())\\n    \\nif __name__ == \"__main__\":\\n    python_class() \\n    print(name)', '#Example 9:\\nname = \\'Anurag\\'         # global variable\\n\\ndef python_class():\\n    name = \\'Sanjana\\'    # local variable\\n    print(name)\\n    \\n    print(globals())\\n    print(locals())\\n    \\nif __name__ == \"__main__\":\\n    python_class() \\n    print(name)', '#Example 9:\\nname = \\'Anurag\\'         # global variable\\n\\ndef python_class():\\n    name = \\'Sanjana\\'    # local variable\\n    print(name)\\n    \\n    print(globals())\\n    print(locals())\\n    \\nif __name__ == \"__main__\":\\n    python_class() \\n    print(name)'], '_oh': {}, '_dh': [WindowsPath('c:/Users/anura/OneDrive/Desktop/Python'), WindowsPath('c:/Users/anura/OneDrive/Desktop/Python')], 'In': ['', '#Example 2:\\nclass Python:\\n    def __init__(self, topic, hour):\\n        self.topic = topic\\n        self.hour = hour\\n        \\n    def display(self):\\n        print(\\'The topic name: \\', self.topic)\\n        print(\\'Duration: \\', self.hour)\\n        \\nif __name__ == \"__main__\":\\n    list_of_tupics = []\\n    while True:\\n        topic = input(\\'Enter the topic name: \\')\\n        hour = int(input(\\'Enter the Duration: \\'))\\n        p1 = Python(topic=topic, hour=hour)\\n        list_of_tupics.append(p1)\\n        print(\\'Topic and Duration added successfully\\')\\n        choice = input(\\'Do you want ot add one more topic: [YES/NO]: \\')\\n        if choice.lower() == \\'no\\':\\n            break\\n        \\n    print(\\'All the topics under python are: \\')\\n    for i in list_of_tupics:\\n        i.display()\\n        print()', '#Example 2:\\nclass Python:\\n    def __init__(self, topic, hour):\\n        self.topic = topic\\n        self.hour = hour\\n        \\n    def display(self):\\n        print(\\'The topic name: \\', self.topic)\\n        print(\\'Duration: \\', self.hour)\\n        \\nif __name__ == \"__main__\":\\n    list_of_tupics = []\\n    while True:\\n        topic = input(\\'Enter the topic name: \\')\\n        hour = int(input(\\'Enter the Duration: \\'))\\n        p1 = Python(topic=topic, hour=hour)\\n        list_of_tupics.append(p1)\\n        print(\\'Topic and Duration added successfully\\')\\n        choice = input(\\'Do you want ot add one more topic: [YES/NO]: \\')\\n        if choice.lower() == \\'no\\':\\n            break\\n        \\n    print(\\'All the topics under python are: \\')\\n    for i in list_of_tupics:\\n        i.display()\\n        print()', 'def karnataka():\\n    city = \\'Mysore\\'\\n    print(city)\\n    \\ndef kerala():\\n    print(city)\\n    \\nif __name__ == \"__main__\":\\n    karnataka()\\n    kerala()\\n    print(city)', 'def karnataka():\\n    city = \\'Mysore\\'\\n    print(city)\\n    \\ndef kerala():\\n    print(city)\\n    \\nif __name__ == \"__main__\":\\n    karnataka()\\n    kerala()\\n    # print(city) --> NameError: name \\'city\\' is not defined', 'def karnataka():\\n    city = \\'Mysore\\'\\n    print(city)\\n    \\ndef kerala():\\n    # print(city) --> NameError: name \\'city\\' is not defined\\n    pass\\n    \\nif __name__ == \"__main__\":\\n    karnataka()\\n    kerala()\\n    # print(city) --> NameError: name \\'city\\' is not defined', '#Example 2\\nname = \\'Anurag\\' # global variable \\n\\ndef python_class():\\n    print(name)\\n    \\ndef java_class():\\n    print(name)\\n    \\nif __name__ == \"__main__\":\\n    python_class()\\n    java_class()\\n    print(name)', '#Example 3\\nname = \\'Anurag\\' # global variable \\n\\ndef python_class():\\n    print(name)\\n    \\ndef java_class():\\n    name = \\'Sanjana\\' # local variable\\n    print(name)\\n    \\nif __name__ == \"__main__\":\\n    python_class()\\n    java_class()\\n    print(name)', '#Example 4\\nname = \\'Anurag\\' # global variable \\n\\ndef python_class():\\n    name = \\'Anurag Patil\\' # local varialbe \\n    print(name)\\n    \\ndef java_class():\\n    name = \\'Sanjana\\' # local variable\\n    print(name)\\n    \\nif __name__ == \"__main__\":\\n    python_class()\\n    java_class()\\n    print(name)', \"#Example 5\\n\\nname = 'Anurag'\\n\\ndef python_class():\\n    name = 'Sanjana'\\n    print(name)\\n    \\nif __name__ == '__main__':\\n    python_class()\", '#Example 6\\nname = \\'Anurag\\'\\n\\ndef python_class():\\n    print(name)\\n    \\n    name = \\'Sanajan\\'\\n    print(name)\\n    \\nif __name__ == \"__main__\":\\n    python_class()\\n    ', '#Example 6\\nname = \\'Anurag\\'\\n\\ndef python_class():\\n    # print(name) --> UnboundLocalError: cannot access local variable \\'name\\' where it is not associated with a value\\n    \\n    name = \\'Sanajan\\'\\n    print(name)\\n    \\nif __name__ == \"__main__\":\\n    python_class()\\n    ', '#Example 7:\\nname = \"Anurag\"\\n\\ndef python_class():\\n    global name\\n    print(name)\\n    \\n    name = \\'Sanjana\\'\\n    print(name)\\n    \\nif __name__ == \"__main__\":\\n    python_class()    ', '#Example 7:\\nname = \"Anurag\"     # global variable\\n\\ndef python_class():\\n    global name     # global variable converted to local variable \\n    print(name)\\n    \\n    name = \\'Sanjana\\'    # Assigining new variable to the global variable\\n    print(name)\\n    \\nif __name__ == \"__main__\":\\n    python_class()    \\n    print(name)', '#Example 8:\\nname = \"Anurag\"     # global variable\\n\\ndef python_class():\\n    global name     # global variable converted to local variable \\n    print(name)\\n    \\n    name = \\'Sanjana\\'    # Assigining new variable to the global variable\\n    print(name)\\n    \\n    print(globals())\\nif __name__ == \"__main__\":\\n    python_class()    \\n    print(name)', '#Example 8\\nname = \"Anurag\"     # global variable\\n\\ndef python_class():\\n    global name     # global variable converted to local variable \\n    print(name)\\n    \\n    name = \\'Sanjana\\'    # Assigining new variable to the global variable\\n    print(name)\\n    \\n    print(globals())\\n    \\nif __name__ == \"__main__\":\\n    python_class()    \\n    print(name)', '#Example 9:\\nname = \\'Anurag\\'         # global variable\\n\\ndef python_class():\\n    name = \\'Sanjana\\'    # local variable\\n    print(name)\\n    \\n    print(globals())\\n    print(locals())\\n    \\nif __name__ == \"__main__\":\\n    python_class() \\n    print(name)', '#Example 9:\\nname = \\'Anurag\\'         # global variable\\n\\ndef python_class():\\n    name = \\'Sanjana\\'    # local variable\\n    print(name)\\n    \\n    print(globals())\\n    print(locals())\\n    \\nif __name__ == \"__main__\":\\n    python_class() \\n    print(name)', '#Example 9:\\nname = \\'Anurag\\'         # global variable\\n\\ndef python_class():\\n    name = \\'Sanjana\\'    # local variable\\n    print(name)\\n    \\n    print(globals())\\n    print(locals())\\n    \\nif __name__ == \"__main__\":\\n    python_class() \\n    print(name)', '#Example 9:\\nname = \\'Anurag\\'         # global variable\\n\\ndef python_class():\\n    name = \\'Sanjana\\'    # local variable\\n    print(name)\\n    \\n    print(globals())\\n    print(locals())\\n    \\nif __name__ == \"__main__\":\\n    python_class() \\n    print(name)'], 'Out': {}, 'get_ipython': <bound method InteractiveShell.get_ipython of <ipykernel.zmqshell.ZMQInteractiveShell object at 0x000002BBDEB4D550>>, 'exit': <IPython.core.autocall.ZMQExitAutocall object at 0x000002BBDEBA4910>, 'quit': <IPython.core.autocall.ZMQExitAutocall object at 0x000002BBDEBA4910>, 'open': <function open at 0x000002BBDC918FE0>, '_': '', '__': '', '___': '', '__vsc_ipynb_file__': 'c:\\\\Users\\\\anura\\\\OneDrive\\\\Desktop\\\\Python\\\\first.ipynb', '_i': '#Example 9:\\nname = \\'Anurag\\'         # global variable\\n\\ndef python_class():\\n    name = \\'Sanjana\\'    # local variable\\n    print(name)\\n    \\n    print(globals())\\n    print(locals())\\n    \\nif __name__ == \"__main__\":\\n    python_class() \\n    print(name)', '_ii': '#Example 9:\\nname = \\'Anurag\\'         # global variable\\n\\ndef python_class():\\n    name = \\'Sanjana\\'    # local variable\\n    print(name)\\n    \\n    print(globals())\\n    print(locals())\\n    \\nif __name__ == \"__main__\":\\n    python_class() \\n    print(name)', '_iii': '#Example 9:\\nname = \\'Anurag\\'         # global variable\\n\\ndef python_class():\\n    name = \\'Sanjana\\'    # local variable\\n    print(name)\\n    \\n    print(globals())\\n    print(locals())\\n    \\nif __name__ == \"__main__\":\\n    python_class() \\n    print(name)', '_i1': '#Example 2:\\nclass Python:\\n    def __init__(self, topic, hour):\\n        self.topic = topic\\n        self.hour = hour\\n        \\n    def display(self):\\n        print(\\'The topic name: \\', self.topic)\\n        print(\\'Duration: \\', self.hour)\\n        \\nif __name__ == \"__main__\":\\n    list_of_tupics = []\\n    while True:\\n        topic = input(\\'Enter the topic name: \\')\\n        hour = int(input(\\'Enter the Duration: \\'))\\n        p1 = Python(topic=topic, hour=hour)\\n        list_of_tupics.append(p1)\\n        print(\\'Topic and Duration added successfully\\')\\n        choice = input(\\'Do you want ot add one more topic: [YES/NO]: \\')\\n        if choice.lower() == \\'no\\':\\n            break\\n        \\n    print(\\'All the topics under python are: \\')\\n    for i in list_of_tupics:\\n        i.display()\\n        print()', 'Python': <class '__main__.Python'>, 'list_of_tupics': [<__main__.Python object at 0x000002BBDEBE7890>, <__main__.Python object at 0x000002BBDEBE17D0>, <__main__.Python object at 0x000002BBDEC1B610>, <__main__.Python object at 0x000002BBDEC1B250>, <__main__.Python object at 0x000002BBDEC1ED50>, <__main__.Python object at 0x000002BBDEC1B710>], 'topic': 'djanago', 'hour': 7, 'p1': <__main__.Python object at 0x000002BBDEC1B710>, 'choice': 'no', 'i': <__main__.Python object at 0x000002BBDEC1B710>, '_i2': '#Example 2:\\nclass Python:\\n    def __init__(self, topic, hour):\\n        self.topic = topic\\n        self.hour = hour\\n        \\n    def display(self):\\n        print(\\'The topic name: \\', self.topic)\\n        print(\\'Duration: \\', self.hour)\\n        \\nif __name__ == \"__main__\":\\n    list_of_tupics = []\\n    while True:\\n        topic = input(\\'Enter the topic name: \\')\\n        hour = int(input(\\'Enter the Duration: \\'))\\n        p1 = Python(topic=topic, hour=hour)\\n        list_of_tupics.append(p1)\\n        print(\\'Topic and Duration added successfully\\')\\n        choice = input(\\'Do you want ot add one more topic: [YES/NO]: \\')\\n        if choice.lower() == \\'no\\':\\n            break\\n        \\n    print(\\'All the topics under python are: \\')\\n    for i in list_of_tupics:\\n        i.display()\\n        print()', '_i3': 'def karnataka():\\n    city = \\'Mysore\\'\\n    print(city)\\n    \\ndef kerala():\\n    print(city)\\n    \\nif __name__ == \"__main__\":\\n    karnataka()\\n    kerala()\\n    print(city)', 'karnataka': <function karnataka at 0x000002BBDEC8E700>, 'kerala': <function kerala at 0x000002BBDEC8E5C0>, '_i4': 'def karnataka():\\n    city = \\'Mysore\\'\\n    print(city)\\n    \\ndef kerala():\\n    print(city)\\n    \\nif __name__ == \"__main__\":\\n    karnataka()\\n    kerala()\\n    # print(city) --> NameError: name \\'city\\' is not defined', '_i5': 'def karnataka():\\n    city = \\'Mysore\\'\\n    print(city)\\n    \\ndef kerala():\\n    # print(city) --> NameError: name \\'city\\' is not defined\\n    pass\\n    \\nif __name__ == \"__main__\":\\n    karnataka()\\n    kerala()\\n    # print(city) --> NameError: name \\'city\\' is not defined', '_i6': '#Example 2\\nname = \\'Anurag\\' # global variable \\n\\ndef python_class():\\n    print(name)\\n    \\ndef java_class():\\n    print(name)\\n    \\nif __name__ == \"__main__\":\\n    python_class()\\n    java_class()\\n    print(name)', 'name': 'Anurag', 'python_class': <function python_class at 0x000002BBDEE6FE20>, 'java_class': <function java_class at 0x000002BBDEE6FEC0>, '_i7': '#Example 3\\nname = \\'Anurag\\' # global variable \\n\\ndef python_class():\\n    print(name)\\n    \\ndef java_class():\\n    name = \\'Sanjana\\' # local variable\\n    print(name)\\n    \\nif __name__ == \"__main__\":\\n    python_class()\\n    java_class()\\n    print(name)', '_i8': '#Example 4\\nname = \\'Anurag\\' # global variable \\n\\ndef python_class():\\n    name = \\'Anurag Patil\\' # local varialbe \\n    print(name)\\n    \\ndef java_class():\\n    name = \\'Sanjana\\' # local variable\\n    print(name)\\n    \\nif __name__ == \"__main__\":\\n    python_class()\\n    java_class()\\n    print(name)', '_i9': \"#Example 5\\n\\nname = 'Anurag'\\n\\ndef python_class():\\n    name = 'Sanjana'\\n    print(name)\\n    \\nif __name__ == '__main__':\\n    python_class()\", '_i10': '#Example 6\\nname = \\'Anurag\\'\\n\\ndef python_class():\\n    print(name)\\n    \\n    name = \\'Sanajan\\'\\n    print(name)\\n    \\nif __name__ == \"__main__\":\\n    python_class()\\n    ', '_i11': '#Example 6\\nname = \\'Anurag\\'\\n\\ndef python_class():\\n    # print(name) --> UnboundLocalError: cannot access local variable \\'name\\' where it is not associated with a value\\n    \\n    name = \\'Sanajan\\'\\n    print(name)\\n    \\nif __name__ == \"__main__\":\\n    python_class()\\n    ', '_i12': '#Example 7:\\nname = \"Anurag\"\\n\\ndef python_class():\\n    global name\\n    print(name)\\n    \\n    name = \\'Sanjana\\'\\n    print(name)\\n    \\nif __name__ == \"__main__\":\\n    python_class()    ', '_i13': '#Example 7:\\nname = \"Anurag\"     # global variable\\n\\ndef python_class():\\n    global name     # global variable converted to local variable \\n    print(name)\\n    \\n    name = \\'Sanjana\\'    # Assigining new variable to the global variable\\n    print(name)\\n    \\nif __name__ == \"__main__\":\\n    python_class()    \\n    print(name)', '_i14': '#Example 8:\\nname = \"Anurag\"     # global variable\\n\\ndef python_class():\\n    global name     # global variable converted to local variable \\n    print(name)\\n    \\n    name = \\'Sanjana\\'    # Assigining new variable to the global variable\\n    print(name)\\n    \\n    print(globals())\\nif __name__ == \"__main__\":\\n    python_class()    \\n    print(name)', '_i15': '#Example 8\\nname = \"Anurag\"     # global variable\\n\\ndef python_class():\\n    global name     # global variable converted to local variable \\n    print(name)\\n    \\n    name = \\'Sanjana\\'    # Assigining new variable to the global variable\\n    print(name)\\n    \\n    print(globals())\\n    \\nif __name__ == \"__main__\":\\n    python_class()    \\n    print(name)', '_i16': '#Example 9:\\nname = \\'Anurag\\'         # global variable\\n\\ndef python_class():\\n    name = \\'Sanjana\\'    # local variable\\n    print(name)\\n    \\n    print(globals())\\n    print(locals())\\n    \\nif __name__ == \"__main__\":\\n    python_class() \\n    print(name)', '_i17': '#Example 9:\\nname = \\'Anurag\\'         # global variable\\n\\ndef python_class():\\n    name = \\'Sanjana\\'    # local variable\\n    print(name)\\n    \\n    print(globals())\\n    print(locals())\\n    \\nif __name__ == \"__main__\":\\n    python_class() \\n    print(name)', '_i18': '#Example 9:\\nname = \\'Anurag\\'         # global variable\\n\\ndef python_class():\\n    name = \\'Sanjana\\'    # local variable\\n    print(name)\\n    \\n    print(globals())\\n    print(locals())\\n    \\nif __name__ == \"__main__\":\\n    python_class() \\n    print(name)', '_i19': '#Example 9:\\nname = \\'Anurag\\'         # global variable\\n\\ndef python_class():\\n    name = \\'Sanjana\\'    # local variable\\n    print(name)\\n    \\n    print(globals())\\n    print(locals())\\n    \\nif __name__ == \"__main__\":\\n    python_class() \\n    print(name)'}\n",
      "{'name': 'Sanjana'}\n",
      "Anurag\n"
     ]
    }
   ],
   "source": [
    "#Example 9:\n",
    "name = 'Anurag'         # global variable\n",
    "\n",
    "def python_class():\n",
    "    name = 'Sanjana'    # local variable\n",
    "    print(name)\n",
    "    \n",
    "    print(globals())\n",
    "    print(locals())\n",
    "    \n",
    "if __name__ == \"__main__\":\n",
    "    python_class() \n",
    "    print(name)"
   ]
  },
  {
   "attachments": {},
   "cell_type": "markdown",
   "metadata": {},
   "source": [
    "NOTE:\n",
    "→  Always the memory for global variable would be allocated first\n",
    "→  Within a function always the priority would be given for the Local variable."
   ]
  },
  {
   "attachments": {},
   "cell_type": "markdown",
   "metadata": {},
   "source": [
    "3.Instance Variable / Object level variable / fields of an Object:\n",
    "    →  Instance variables are such variables whose values changes from object to object\n",
    "                                (or)\n",
    "    →  Variables which are declared within the instance method is called as IV\n",
    "\n",
    "4.Static Variable / Class Level Variables:\n",
    "    →  Static variable are such variables whose values will not change from object to object, these variables are declared within the class and outside the method\n",
    "\n",
    "NOTE:\n",
    "    →  For every object a separate copy of instance variable would be created\n",
    "    →  Inorder to fetch the instance variables associated with the object we have to use __dict__ with the help of ObjectReference \n",
    "    →  Inorder to fetch the static variables associated with the Class we have to use __dict__ with the help of ClassName\n",
    "    →  The data of instance variables would be stored in the form of dictionary within an Object\n",
    "    →  The data of static variables would be stored in the form of dictionary within a Class\n",
    "    →  Only a single copy of static variable would be available in Static Segment and it would be shared among all the Objects\n",
    "    →  Only a single copy of self variable would be available within the GCR"
   ]
  },
  {
   "attachments": {},
   "cell_type": "markdown",
   "metadata": {},
   "source": [
    "3.Instance Variable/Object level variable/fields of an Object:\n",
    "    →  Instance variables are such variables whose values changes from object to object\n",
    "                            (or)\n",
    "    →  Variables which are declared within the instance method is called as IV\n",
    "\n",
    "\n",
    "Creation of IV/Adding IV to the Object:\n",
    "        There are 3 ways to add the IV to the Object as follows\n",
    "            1. Using Constructor\n",
    "            2. Using Instance method\n",
    "            3. Using the ObjectReference\n"
   ]
  },
  {
   "attachments": {},
   "cell_type": "markdown",
   "metadata": {},
   "source": [
    "1) Adding the IV Dynamically to the object using Constructor:"
   ]
  },
  {
   "cell_type": "code",
   "execution_count": 21,
   "metadata": {},
   "outputs": [
    {
     "name": "stdout",
     "output_type": "stream",
     "text": [
      "{'trainer': 'Anurag', 'subject': 'Python'}\n",
      "{'trainer': 'Sanjana', 'subject': 'English'}\n",
      "{'__module__': '__main__', 'platform': 'Online', '__init__': <function StudyOnline.__init__ at 0x000002BBDF1F8AE0>, '__dict__': <attribute '__dict__' of 'StudyOnline' objects>, '__weakref__': <attribute '__weakref__' of 'StudyOnline' objects>, '__doc__': None}\n",
      "Online\n",
      "Online\n"
     ]
    }
   ],
   "source": [
    "#Example 1:\n",
    "class StudyOnline:\n",
    "    platform = 'Online'     # static variable\n",
    "    def __init__(self, trainer, subject):\n",
    "        self.trainer = trainer\n",
    "        self.subject = subject\n",
    "        \n",
    "if __name__ == \"__main__\":\n",
    "    s1 = StudyOnline(trainer = 'Anurag', subject = 'Python')\n",
    "    s2 = StudyOnline(trainer = 'Sanjana', subject = 'English')\n",
    "    \n",
    "    print(s1.__dict__)\n",
    "    print(s2.__dict__)\n",
    "    \n",
    "    print(StudyOnline.__dict__)\n",
    "    \n",
    "    print(s1.platform)\n",
    "    print(s2.platform)"
   ]
  },
  {
   "cell_type": "code",
   "execution_count": 23,
   "metadata": {},
   "outputs": [
    {
     "name": "stdout",
     "output_type": "stream",
     "text": [
      "{'name': 'Anurag', 'marks': 75, 'age': 22, 'city': 'Mysore'}\n"
     ]
    }
   ],
   "source": [
    "#Example 2:\n",
    "class Student:\n",
    "    def __init__(self, name, marks):\n",
    "        self.name = name\n",
    "        self.marks = marks\n",
    "        self.age = 22\n",
    "        self.city = 'Mysore'\n",
    "        \n",
    "if __name__ ==\"__main__\":\n",
    "    s1 = Student(name= 'Anurag', marks = 75)\n",
    "    print(s1.__dict__)"
   ]
  },
  {
   "attachments": {},
   "cell_type": "markdown",
   "metadata": {},
   "source": [
    "2) Adding the IV Dynamically to the object using Instance Method:"
   ]
  },
  {
   "cell_type": "code",
   "execution_count": 40,
   "metadata": {},
   "outputs": [
    {
     "name": "stdout",
     "output_type": "stream",
     "text": [
      "{'name': 'Sanjan', 'marks': 99}\n",
      "{'name': 'Sanjan', 'marks': 99, 'age': 22, 'city': 'Sirwar'}\n"
     ]
    }
   ],
   "source": [
    "# Example 3\n",
    "class Student:\n",
    "    def __init__(self, name, marks):\n",
    "        self.name = name\n",
    "        self.marks = marks\n",
    "        \n",
    "    def my_method(self):\n",
    "        self.age = 22\n",
    "        self.city = 'Sirwar'\n",
    "        \n",
    "if __name__ ==\"__main__\":\n",
    "    s1 = Student(name = 'Sanjan', marks = 99)\n",
    "    print(s1.__dict__)\n",
    "    s1.my_method()\n",
    "    print(s1.__dict__)\n",
    "    "
   ]
  },
  {
   "attachments": {},
   "cell_type": "markdown",
   "metadata": {},
   "source": [
    "3) Adding the IV Dynamically to the object using ObjectReference:"
   ]
  },
  {
   "cell_type": "code",
   "execution_count": null,
   "metadata": {},
   "outputs": [],
   "source": [
    "#Example 4\n",
    "class Student:\n",
    "    def __init__(self, name, marks):\n",
    "        self.name = name\n",
    "        self.marks = marks\n",
    "        \n",
    "if __name__ == \"__main__\":\n",
    "    s1 = Student(name= 'Anurag', marks= 75)\n",
    "    s2 = Student(name= 'Sanjana', marks= 99)\n",
    "    \n",
    "    print(s1.__dict__)\n",
    "    s1.age = 22\n",
    "    print(s1.__dict__)\n",
    "    s1.city = 'Washington DC'\n",
    "    print(s1.__dict__)\n",
    "    \n",
    "    print(s2.__dict__)"
   ]
  },
  {
   "attachments": {},
   "cell_type": "markdown",
   "metadata": {},
   "source": [
    "Accessing the Instance variables from the object:\n",
    "\tThere are 3 ways to access the IV from the Object as follows\n",
    "\t\t→  Using self variable\n",
    "\t\t→  Using ObjectReference\n",
    "\t\t→  Using __dict__"
   ]
  },
  {
   "cell_type": "code",
   "execution_count": 43,
   "metadata": {},
   "outputs": [
    {
     "name": "stdout",
     "output_type": "stream",
     "text": [
      "Inside Constructor using self:  Anurag 75\n",
      "Inside Constructor using self:  {'name': 'Anurag', 'marks': 75}\n",
      "Inside IM using self:  Anurag 75\n",
      "Inside IM using self:  {'name': 'Anurag', 'marks': 75}\n",
      "Inside IM using objectReference:  Anurag 75\n",
      "Inside IM using objectReference:  {'name': 'Anurag', 'marks': 75}\n",
      "Inside main() using objecrReference:  Anurag 75\n",
      "Inside main() using objecrReference:  {'name': 'Anurag', 'marks': 75}\n"
     ]
    }
   ],
   "source": [
    "#Example 1:\n",
    "class Student:\n",
    "    #Constructor\n",
    "    def __init__(self, name, marks):\n",
    "        self.name = name\n",
    "        self.marks = marks\n",
    "        print('Inside Constructor using self: ', self.name, self.marks)\n",
    "        print('Inside Constructor using self: ', self.__dict__)\n",
    "        \n",
    "        # print(s1.name,s1.marks)   →  NameError: name 's1' is not defined\n",
    "\t\t# print(s1.__dict__)        →  NameError: name 's1' is not defined\n",
    "\n",
    "    #Instance method\n",
    "    def i_m(self):\n",
    "        print('Inside IM using self: ', self.name, self.marks)\n",
    "        print('Inside IM using self: ', self.__dict__ )\n",
    "        \n",
    "        print('Inside IM using objectReference: ', s1.name, s1.marks)\n",
    "        print('Inside IM using objectReference: ', s1.__dict__)\n",
    "        \n",
    "if __name__ ==\"__main__\":\n",
    "    s1 = Student(name ='Anurag', marks= 75)\n",
    "    # print(self.name)  →  NameError: name 'self' is not defined\n",
    "    \n",
    "    #calling IM using objectReference\n",
    "    s1.i_m()\n",
    "    \n",
    "    #using objectReference\n",
    "    print('Inside main() using objecrReference: ', s1.name, s1.marks)\n",
    "    \n",
    "    #using __dict__\n",
    "    print('Inside main() using objecrReference: ', s1.__dict__)\n",
    "    \n",
    "    \n",
    "    \n",
    "    "
   ]
  },
  {
   "attachments": {},
   "cell_type": "markdown",
   "metadata": {},
   "source": [
    "NOTE:\n",
    "    →  Within the Constructor we can not access the IV using ObjectReference, but we can access using self\n",
    "    →  Within the main() we can not access the IV using self , but we can access using ObjectReference\n",
    "    →  Within the IM we can access the IV using both self and ObjectReference\n"
   ]
  },
  {
   "attachments": {},
   "cell_type": "markdown",
   "metadata": {},
   "source": [
    "Modifying the Instance variables:\n",
    "\t→  Using reference variable which is pointing to the object (ObjectReference)\n",
    "\t→  Using the instance method"
   ]
  },
  {
   "cell_type": "code",
   "execution_count": 45,
   "metadata": {},
   "outputs": [
    {
     "name": "stdout",
     "output_type": "stream",
     "text": [
      "{'name': 'Anurag', 'marks': 75, 'age': 22, 'city': 'Raichur'}\n",
      "{'name': 'Anurag', 'marks': 75, 'age': 22, 'city': 'Banagalore'}\n",
      "{'name': 'Anurag', 'marks': 75, 'age': 25, 'city': 'Banagalore'}\n"
     ]
    }
   ],
   "source": [
    "#Example 1\n",
    "class Student:\n",
    "    #Constructor\n",
    "    def __init__(self, name, marks, age, city):\n",
    "        self.name = name\n",
    "        self.marks = marks\n",
    "        self.age = age\n",
    "        self.city = city\n",
    "        \n",
    "    #instance methods\n",
    "    def i_m(self, age):\n",
    "        self.age = age\n",
    "        \n",
    "if __name__ == \"__main__\":\n",
    "    s1 = Student(name= 'Anurag', marks = 75, age = 22, city = 'Raichur')\n",
    "    print(s1.__dict__)\n",
    "    \n",
    "    #Modifying IV using ObjectReference\n",
    "    s1.city = 'Banagalore'\n",
    "    print(s1.__dict__)\n",
    "    \n",
    "    #Modifying IV using Instance Method\n",
    "    s1.i_m(age = 25)\n",
    "    print(s1.__dict__)"
   ]
  },
  {
   "attachments": {},
   "cell_type": "markdown",
   "metadata": {},
   "source": [
    "Removing/deleting the Instance variable from the Object:\n",
    "\t→  Using reference variable which is pointing to the object(ObjectReference)\n",
    "\t→  Using self "
   ]
  },
  {
   "cell_type": "code",
   "execution_count": 48,
   "metadata": {},
   "outputs": [
    {
     "name": "stdout",
     "output_type": "stream",
     "text": [
      "{'name': 'Anurag', 'marks': 75, 'age': 27, 'city': 'Raichur'}\n",
      "{'age': 27, 'city': 'Raichur'}\n",
      "{'age': 27}\n"
     ]
    }
   ],
   "source": [
    "#Example 1:\n",
    "class Student:\n",
    "    def __init__(self, name, marks, age, city):\n",
    "        self.name = name\n",
    "        self.marks = marks\n",
    "        self.age = age\n",
    "        self.city = city\n",
    "        \n",
    "    def i_m(self):\n",
    "        # Deleting of IV using self\n",
    "        del self.marks\n",
    "        del self.name\n",
    "        \n",
    "if __name__ == \"__main__\":\n",
    "    s1 = Student(name = \"Anurag\", marks=75, age = 27, city='Raichur')\n",
    "    print(s1.__dict__)\n",
    "    \n",
    "    # Deleting of IV using instance method\n",
    "    s1.i_m()\n",
    "    print(s1.__dict__)\n",
    "    \n",
    "    # Deleting of IV using objectReference\n",
    "    del s1.city\n",
    "    print(s1.__dict__)"
   ]
  },
  {
   "attachments": {},
   "cell_type": "markdown",
   "metadata": {},
   "source": [
    "Removing all the IV in a Single shot"
   ]
  },
  {
   "cell_type": "code",
   "execution_count": 50,
   "metadata": {},
   "outputs": [
    {
     "name": "stdout",
     "output_type": "stream",
     "text": [
      "{'name': 'Anurag', 'marks': 75, 'age': 27, 'city': 'Raaichur'}\n",
      "{'name': 'Sanjana', 'marks': 77, 'age': 25, 'city': 'Sirwar'}\n",
      "{}\n",
      "{'name': 'Sanjana', 'marks': 77, 'age': 25, 'city': 'Sirwar'}\n"
     ]
    }
   ],
   "source": [
    "#Example 2:\n",
    "class Student:\n",
    "    #Constructor\n",
    "    def __init__(self, name, marks, age, city):\n",
    "        self.name = name\n",
    "        self.marks = marks\n",
    "        self.age = age\n",
    "        self.city = city\n",
    "        \n",
    "if __name__ == \"__main__\":\n",
    "    s1 = Student(name = \"Anurag\", marks = 75, age =27, city = \"Raaichur\")\n",
    "    print(s1.__dict__)\n",
    "    s2 = Student(name='Sanjana', marks = 77, age = 25, city='Sirwar')\n",
    "    print(s2.__dict__)\n",
    "    \n",
    "    #Removing all the IV in a single shot\n",
    "    del  s1.__dict__\n",
    "    print(s1.__dict__)\n",
    "    \n",
    "    print(s2.__dict__)"
   ]
  },
  {
   "attachments": {},
   "cell_type": "markdown",
   "metadata": {},
   "source": [
    "NOTE:\n",
    "    →  del keyword is used to remove the reference which is pointing to the object.\n",
    "    →  Using the ObjectReference we can remove the instance variable within the class and outside the class.\n",
    "        (i.e del ObjectReference.VariableName)\n",
    "    →  But using the self variable we can only remove the instance variable only within the class \n",
    "        i.e inside instance method\n",
    "                    del self.VariableName\n",
    "    →  using del ObjectReference.__dict__ we can remove all the Instance variables stored within the object.\n",
    "    →  The instance variables which are deleted from one object, will not affect the other object, because a separate copy of IV would be created \n"
   ]
  },
  {
   "attachments": {},
   "cell_type": "markdown",
   "metadata": {},
   "source": [
    "Static variable / Class Level Variable:\n",
    "    →  Static variable are such variables whose values will not change from object to object,usually these variables are declared within the class and outside the method\n",
    "    →  Only a single copy of static variable would be available in Static Segment and it would be shared among all the objects"
   ]
  },
  {
   "attachments": {},
   "cell_type": "markdown",
   "metadata": {},
   "source": [
    "Creation of Static variable:\n",
    "Inside the class:(5 ways)\n",
    "    1. Inside the class,outside the method or constructor\n",
    "    2. Inside the Constructor by using ClassName\n",
    "    3. Inside Instance method by using ClassName\n",
    "    4. Inside Class Method by using ClassName or by using cls variable\n",
    "    5. Inside Static method by using ClassName\n",
    "\n",
    "Outside the class:(1 ways)\n",
    "    1. Outside the class using ClassName\n"
   ]
  },
  {
   "attachments": {},
   "cell_type": "markdown",
   "metadata": {},
   "source": [
    "Inside the class:\n",
    "1. Inside the class,outside the method or constructor:"
   ]
  },
  {
   "cell_type": "code",
   "execution_count": 7,
   "metadata": {},
   "outputs": [
    {
     "name": "stdout",
     "output_type": "stream",
     "text": [
      "Online\n",
      "Online\n"
     ]
    }
   ],
   "source": [
    "#Example 1:\n",
    "class OnlineClass:\n",
    "    platform = 'Online' #Static variable\n",
    "    \n",
    "    #Constructor \n",
    "    def __init__(self, trainer, subject):\n",
    "        self.trainer = trainer\n",
    "        self.subject = subject\n",
    "        \n",
    "if __name__ == \"__main__\":\n",
    "    s1 = OnlineClass(trainer='Anurg', subject= 'Python')\n",
    "    print(OnlineClass.platform) # using class name\n",
    "    print(s1.platform) #using object reference\n",
    "    "
   ]
  },
  {
   "attachments": {},
   "cell_type": "markdown",
   "metadata": {},
   "source": [
    "Inside the class:\n",
    "2. Inside the Constructor by using ClassName:"
   ]
  },
  {
   "cell_type": "code",
   "execution_count": 8,
   "metadata": {},
   "outputs": [
    {
     "name": "stdout",
     "output_type": "stream",
     "text": [
      "Offline\n",
      "Offline\n"
     ]
    }
   ],
   "source": [
    "#Example 1:\n",
    "class OnlineClass:\n",
    "    #Constructor\n",
    "    def __init__(self, trainer, subject):\n",
    "        self.trainer = trainer\n",
    "        self.subject = subject\n",
    "        OnlineClass.platform = 'Offline'\n",
    "        \n",
    "if __name__ == \"__main__\":\n",
    "    s1 = OnlineClass(trainer='Anurg', subject= 'Python')\n",
    "    print(OnlineClass.platform) # using class name\n",
    "    print(s1.platform) #using object reference"
   ]
  },
  {
   "attachments": {},
   "cell_type": "markdown",
   "metadata": {},
   "source": [
    "Inside the class:\n",
    "3. Inside Instance method by using ClassName:"
   ]
  },
  {
   "cell_type": "code",
   "execution_count": 9,
   "metadata": {},
   "outputs": [
    {
     "name": "stdout",
     "output_type": "stream",
     "text": [
      "Online\n",
      "Online\n"
     ]
    }
   ],
   "source": [
    "#Example 1:\n",
    "class OnlineClass:\n",
    "    # Constructor\n",
    "    def __init__(self, trainer, subject):\n",
    "        self.trainer = trainer\n",
    "        self.subject = subject\n",
    "        \n",
    "    # instance method\n",
    "    def i_m(self):\n",
    "        OnlineClass.platform = 'Online'\n",
    "        \n",
    "if __name__ == \"__main__\":\n",
    "    s1 = OnlineClass(trainer='Anurg', subject= 'Python')\n",
    "    s1.i_m()\n",
    "    print(OnlineClass.platform) # using class name\n",
    "    print(s1.platform) #using object reference"
   ]
  },
  {
   "attachments": {},
   "cell_type": "markdown",
   "metadata": {},
   "source": [
    "Inside the class:\n",
    "4. Inside Class Method by using ClassName or by using cls variable:"
   ]
  },
  {
   "cell_type": "code",
   "execution_count": 12,
   "metadata": {},
   "outputs": [
    {
     "name": "stdout",
     "output_type": "stream",
     "text": [
      "Offline\n",
      "Offline\n",
      "Zoom\n",
      "Zoom\n"
     ]
    }
   ],
   "source": [
    "#Example 1:\n",
    "class OnlineClass:\n",
    "    \n",
    "    #Constructor\n",
    "    def __init__(self, trainer, subject):\n",
    "        self.trainer = trainer\n",
    "        self.subject = subject\n",
    "        \n",
    "    @classmethod\n",
    "    def c_m(cls):\n",
    "        OnlineClass.platform = 'Offline'  # using class name\n",
    "        cls.software = 'Zoom'   # using cls\n",
    "        \n",
    "if __name__ == \"__main__\":\n",
    "    s1 = OnlineClass(trainer='Anurg', subject= 'Python')\n",
    "    s1.c_m()\n",
    "    print(OnlineClass.platform) # using class name\n",
    "    print(s1.platform) #using object reference\n",
    "    \n",
    "    print(OnlineClass.software) # using class name\n",
    "    print(s1.software) #using object reference"
   ]
  },
  {
   "attachments": {},
   "cell_type": "markdown",
   "metadata": {},
   "source": [
    "Inside the class:\n",
    "5. Inside Static method by using ClassName:"
   ]
  },
  {
   "cell_type": "code",
   "execution_count": 19,
   "metadata": {},
   "outputs": [
    {
     "name": "stdout",
     "output_type": "stream",
     "text": [
      "{'traniner': 'Anurag', 'subject': 'Python'}\n",
      "Online\n"
     ]
    }
   ],
   "source": [
    "#Example 1\n",
    "class OnlineClass:\n",
    "    # Constructor\n",
    "    def __init__(self, traniner, subject):\n",
    "        self.traniner = traniner\n",
    "        self.subject = subject\n",
    "        \n",
    "    @staticmethod\n",
    "    def s_m():\n",
    "        OnlineClass.platform = 'Online'\n",
    "        \n",
    "if __name__ == \"__main__\":\n",
    "    s1 = OnlineClass(traniner= 'Anurag', subject = 'Python')\n",
    "    print(s1.__dict__)\n",
    "    OnlineClass.s_m()\n",
    "    print(OnlineClass.platform)\n",
    "    "
   ]
  },
  {
   "attachments": {},
   "cell_type": "markdown",
   "metadata": {},
   "source": [
    "Outside the class:\n",
    "1. Outside the class using ClassName\n"
   ]
  },
  {
   "cell_type": "code",
   "execution_count": 21,
   "metadata": {},
   "outputs": [
    {
     "name": "stdout",
     "output_type": "stream",
     "text": [
      "Offline\n",
      "Offline\n"
     ]
    }
   ],
   "source": [
    "#Example 1:\n",
    "class OnlineClass:\n",
    "    #constuctor\n",
    "    def __init__(self, trainer, subject):\n",
    "        self.trainer = trainer\n",
    "        self.subject = subject\n",
    "        \n",
    "if __name__ == \"__main__\":\n",
    "    s1 = OnlineClass(trainer='Sanajan', subject='Englinsh')\n",
    "    OnlineClass.platform = 'Offline'\n",
    "    print(s1.platform)\n",
    "    print(OnlineClass.platform)"
   ]
  }
 ],
 "metadata": {
  "kernelspec": {
   "display_name": "Python 3",
   "language": "python",
   "name": "python3"
  },
  "language_info": {
   "codemirror_mode": {
    "name": "ipython",
    "version": 3
   },
   "file_extension": ".py",
   "mimetype": "text/x-python",
   "name": "python",
   "nbconvert_exporter": "python",
   "pygments_lexer": "ipython3",
   "version": "3.11.0"
  },
  "orig_nbformat": 4
 },
 "nbformat": 4,
 "nbformat_minor": 2
}
